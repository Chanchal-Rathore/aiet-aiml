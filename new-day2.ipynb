{
 "cells": [
  {
   "cell_type": "code",
   "execution_count": 4,
   "metadata": {},
   "outputs": [],
   "source": [
    "import nltk"
   ]
  },
  {
   "cell_type": "code",
   "execution_count": 5,
   "metadata": {},
   "outputs": [],
   "source": [
    "from nltk.chat.util import Chat , reflections"
   ]
  },
  {
   "cell_type": "code",
   "execution_count": 29,
   "metadata": {},
   "outputs": [],
   "source": [
    "que1 = r'how are you'\n",
    "answers1 = [\n",
    "    'all well',\n",
    "    'I am good',\n",
    "    'awesome'\n",
    "]\n",
    "\n",
    "que2 = r'what can you do'\n",
    "answers2 = [\n",
    "    'i can reply to your queries',\n",
    "    'I am here to answer you questions',\n",
    "    'I can chat with you'\n",
    "]\n",
    "\n",
    "que3 = r'what is your name'\n",
    "answers3 = [\n",
    "    ' my name is chatty',\n",
    "    'i am chatty'\n",
    "]\n",
    "\n",
    "que4 = r'kya aaj barish hogi'\n",
    "answers4 = [\n",
    "    'its look like it will rain today',\n",
    "    'baarish ka mausam he',\n",
    "    'baarish ho sakti he mausam kharaab he'\n",
    "]\n",
    "# question answer pairs\n",
    "qa_pair = [\n",
    "    (que1, answers1),\n",
    "    (que2, answers2),\n",
    "    (que3, answers3),\n",
    "    (que4, answers4),\n",
    "]"
   ]
  },
  {
   "cell_type": "code",
   "execution_count": 30,
   "metadata": {},
   "outputs": [],
   "source": [
    "chatbot = Chat(qa_pair)"
   ]
  },
  {
   "cell_type": "code",
   "execution_count": 31,
   "metadata": {},
   "outputs": [
    {
     "name": "stdout",
     "output_type": "stream",
     "text": [
      "Q: kya aaj barish hogi\n",
      "A: baarish ho sakti he mausam kharaab he\n"
     ]
    }
   ],
   "source": [
    "questions = input( 'Enter your questions:')\n",
    "print('Q:',questions)\n",
    "reply = chatbot.respond(questions)\n",
    "print('A:',reply)"
   ]
  },
  {
   "cell_type": "markdown",
   "metadata": {},
   "source": [
    "Regular Exoression Symbols\n",
    "--------------------------\n",
    "\n",
    "()      group\n",
    ".       any character (except new line)\n",
    "*       zero or non zero accurances\n",
    "[]      set of characters\n",
    "a-z     all small alphabet\n",
    "A-Z     all cap. alphabets\n",
    "0-9     all numbers\n",
    "^       strating with\n",
    "$       ending with\n",
    "?       zero or one accurance only\n",
    "+       one or more accurance\n",
    "{}      excat no. of accurance\n",
    "\\w      only word character(alphabet, numbers and underscores)\n",
    "\\W      not word characters     \n",
    "\n"
   ]
  },
  {
   "cell_type": "code",
   "execution_count": 34,
   "metadata": {},
   "outputs": [
    {
     "name": "stdout",
     "output_type": "stream",
     "text": [
      "Speak\n",
      "Question: what is your name\n",
      "\n",
      "Answer: i am chatty\n"
     ]
    }
   ],
   "source": [
    "\n",
    "import speech_recognition as sr\n",
    "import pyttsx3\n",
    "from nltk.chat.util import Chat\n",
    "\n",
    "chatbot = Chat(qa_pair)\n",
    "\n",
    "spk = pyttsx3.init()\n",
    "spk.setProperty('rate', 150) # words per min.\n",
    "spk.setProperty('volume', 1.0) # volume\n",
    "\n",
    "rec = sr.Recognizer()\n",
    "\n",
    "with  sr.Microphone() as mic:\n",
    "    print('Speak')\n",
    "    audio = rec.listen(mic, timeout=2, phrase_time_limit=4)\n",
    "\n",
    "    try:\n",
    "        text = rec.recognize_google(audio)\n",
    "        print('Question:', text , end='\\n\\n')\n",
    "\n",
    "        reply = chatbot.respond(text)\n",
    "        print('Answer:', reply)\n",
    "\n",
    "        spk.say(reply)\n",
    "        spk.runAndWait()\n",
    "    except Exception as err:\n",
    "        print('Error', err, end='\\n\\n')\n",
    "\n"
   ]
  }
 ],
 "metadata": {
  "kernelspec": {
   "display_name": "Python 3",
   "language": "python",
   "name": "python3"
  },
  "language_info": {
   "codemirror_mode": {
    "name": "ipython",
    "version": 3
   },
   "file_extension": ".py",
   "mimetype": "text/x-python",
   "name": "python",
   "nbconvert_exporter": "python",
   "pygments_lexer": "ipython3",
   "version": "3.10.4"
  },
  "orig_nbformat": 4
 },
 "nbformat": 4,
 "nbformat_minor": 2
}
